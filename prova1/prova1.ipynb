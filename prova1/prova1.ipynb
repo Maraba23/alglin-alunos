{
 "cells": [
  {
   "attachments": {},
   "cell_type": "markdown",
   "metadata": {},
   "source": [
    "# Avaliação Intermediária\n",
    "\n",
    "NOME: **COLOQUE SEU NOME AQUI**\n",
    "E-MAIL: **COLOQUE SEU E-MAIL INSPER AQUI**"
   ]
  },
  {
   "attachments": {},
   "cell_type": "markdown",
   "metadata": {},
   "source": [
    "Esta é a A.I. de Álgebra Linear e Teoria da Informação de 1s2023.\n",
    "\n",
    "\n",
    "\n",
    "INSTRUÇÕES:\n",
    "\n",
    "1. Faça todas as questões\n",
    "1. Salve o notebook\n",
    "1. Envie o notebook salvo no Blackboard\n",
    "\n",
    "IMPORTANTE:\n",
    "\n",
    "* Você pode consultar qualquer material ou IA, mas não qualquer colega ou pessoa humana, presente ou não na prova.\n",
    "* O envio da prova será fechado às 17h45. Aqueles que não enviarem o material até este horário ficarão com zero.\n",
    "* A prova vale um total de 10 pontos. As questões 1, 2, 3 e 4 têm, respectivamente, pesos 1, 2, 3 e 4.\n",
    "* Os conceitos F, E, D, C, B, A serão mapeados para 0, 2, 4, 6, 8 e 10.\n",
    "* Para todas as questões, usaremos a rubrica que segue anexa a esta prova. Há uma rubrica para a justificativa e uma rubrica para o código. A nota da questão é a menor entre as notas da justificativa e do código.\n"
   ]
  },
  {
   "attachments": {},
   "cell_type": "markdown",
   "metadata": {},
   "source": [
    "## Exercício 1\n",
    "\n",
    "* Peso: 1 ponto\n",
    "\n",
    "Dadas as matrizes:\n",
    "\n",
    "$$\n",
    "A = \\begin{bmatrix} 1 & 3 &\\\\ 2 & 1 \\end{bmatrix} \\\\\n",
    "\n",
    "B = \\begin{bmatrix} 2 & 3\\\\ 5 & 8 \\end{bmatrix} \\\\\n",
    "\n",
    "C = AB \\\\\n",
    "\n",
    "D = BA \n",
    "$$\n",
    "\n",
    "calcule:\n",
    "\n",
    "$X = (ABC^{-1}BAD^{-1})^T \\odot A$\n",
    "\n"
   ]
  },
  {
   "cell_type": "code",
   "execution_count": 1,
   "metadata": {},
   "outputs": [
    {
     "name": "stdout",
     "output_type": "stream",
     "text": [
      "[[1.00000000e+00 2.07241631e-15]\n",
      " [5.32907052e-14 1.00000000e+00]]\n"
     ]
    }
   ],
   "source": [
    "import numpy as np\n",
    "import matplotlib.pyplot as plt\n",
    "\n",
    "A = np.array([[1, 2], [2, 1]])\n",
    "B = np.array([[2, 3], [5, 8]])\n",
    "C = A @ B\n",
    "D = B @ A\n",
    "\n",
    "# X = (A @ B @ C^-1 @ B @ A @ D^-1) * A )\n",
    "X = (A @ B @ np.linalg.inv(C) @ B @ A @ np.linalg.inv(D)) * A\n",
    "print(X)"
   ]
  },
  {
   "attachments": {},
   "cell_type": "markdown",
   "metadata": {},
   "source": [
    "### Justificativa\n",
    "\n",
    "Simplesmente realizei a conta do X, que esta no enunciado"
   ]
  },
  {
   "attachments": {},
   "cell_type": "markdown",
   "metadata": {},
   "source": [
    "# Exercício 2\n",
    "\n",
    "* Peso: 2 pontos\n",
    "\n",
    "Tenho uma matriz $X$ que contém todas as posições $(i,j)$ de pixels de uma figura de 600x600 pixels, sendo cada pixel armazenado em uma coluna e cada dimensão armazenada em uma linha. Qual é a matriz que permite encolher essa figura de forma que cada uma de suas dimensões seja reduzida pela metade, mas seu centro seja preservado? Se precisar, use coordenadas homogêneas!\n"
   ]
  },
  {
   "attachments": {},
   "cell_type": "markdown",
   "metadata": {},
   "source": [
    "### Justificativa\n",
    "\n",
    "A matriz na qual o enunciado pede eh:\n",
    "$$\n",
    "T = \n",
    "\\begin{bmatrix}\n",
    "    0.5 & 0 & \\Delta x \\\\\n",
    "    0 & 0.5 & \\Delta x \\\\\n",
    "    0 & 0 & 1\n",
    "\\end{bmatrix}\n",
    "$$\n",
    "Onde nosso $\\Delta x$ e $\\Delta y$ São iguais a zero, portanto a nossa matriz nâo translada para nenhum lugar, ou seja, mantem seu centro perservado\n",
    "\n",
    "Nessa matriz multiplicamos nosso eixo y e eixo x por $0.5$, sendo assim, diminuimos o espaço que os pixels ocupam pela metade\n",
    "\n",
    "Abaixo foi feita uma demonstração de como se aplicaria isso em uma nuvem de pontos\n"
   ]
  },
  {
   "cell_type": "code",
   "execution_count": 6,
   "metadata": {},
   "outputs": [
    {
     "data": {
      "image/png": "[encoded data removed]",
      "text/plain": [
       "<Figure size 640x480 with 1 Axes>"
      ]
     },
     "metadata": {},
     "output_type": "display_data"
    }
   ],
   "source": [
    "\n",
    "x = np.random.uniform(-0.5, 0.5, size=(2, 600))\n",
    "x = np.vstack((x, np.ones(x.shape[1])))\n",
    "T = np.array([[0.5, 0, 0], [0, 0.5, 0], [0, 0, 1]])\n",
    "y = T @ x\n",
    "\n",
    "plt.figure()\n",
    "plt.scatter(x[0,:], x[1,:], s=1, c='r')\n",
    "plt.scatter(y[0,:], y[1,:], s=1, c='b')\n",
    "plt.xlim([-2, 2])\n",
    "plt.ylim([-2, 2])\n",
    "plt.grid()\n",
    "plt.show()\n",
    "\n",
    "\n",
    "\n"
   ]
  },
  {
   "attachments": {},
   "cell_type": "markdown",
   "metadata": {},
   "source": [
    "# Exercício 3\n",
    "\n",
    "* Peso: 3 pontos\n",
    "\n",
    "Algumas carteiras de investimento deram os seguintes retornos:\n",
    "\n",
    "* 100 ações da empresa E1 e 200 ações da E2 deram retorno de R$100,00,\n",
    "* 1000 ações da empresa E1 e 2000 ações da E2 deram retorno de R$1000,00,\n",
    "* 200 ações da empresa E2 e 300 da E3 deram retorno de R$500,00 \n",
    "* 400 ações da empresa E2 e 600 da E3 deram retorno de R$1000,00 \n",
    "* 1000 ações da empresa E1 e 100 da E3 deram retorno de R$1500,00\n",
    "* 2000 ações da empresa E1 e 200 da E3 deram retorno de R$3000,00 \n",
    "\n",
    "*Usando estritamente formulações matriciais*, responda:\n",
    "1. Qual é o retorno por ação de cada empresa?\n",
    "1. Qual é o retorno de uma carteira com 100 ações da empresa E1, 200 da empresa E2 e 300 da E3?"
   ]
  },
  {
   "cell_type": "code",
   "execution_count": 13,
   "metadata": {},
   "outputs": [
    {
     "name": "stdout",
     "output_type": "stream",
     "text": [
      "Retorno por ação de cada empresa: E1 = 7.0, E2 = -3.0, E3 = 3.6666666666666665\n",
      "Retorno de uma carteira com 100 ações da empresa E1, 200 da empresa E2 e 300 da E3: 1200.0\n"
     ]
    }
   ],
   "source": [
    "'''\n",
    "Vamos pegar tres equações do enunciado\n",
    "\n",
    "100 * E1 + 200 * E2 = 100\n",
    "200 * E1 + 300 * E2 = 500\n",
    "400 * E2 = 600 * E3 = 1000\n",
    "\n",
    "sendo assim, temos que\n",
    "E1 + 2 * E2 = 1\n",
    "2 * E1 + 3 * E2 = 5\n",
    "4 * E2 + 6 * E3 = 10\n",
    "\n",
    "vamos transformar isso em matrizes\n",
    "vamos chamar nossa matriz multiplicadora de M\n",
    "Nossa matriz de entrada será X\n",
    "Nossa matriz de saída será E\n",
    "'''\n",
    "M = np.array([[1, 2, 0], [2, 3, 0], [0, 4, 6]])\n",
    "X = np.array([[1], [5], [10]])\n",
    "\n",
    "# Sabemos que X = M @ E, portanto E = M^-1 @ X\n",
    "E = np.linalg.inv(M) @ X\n",
    "\n",
    "# resposta da questão 1 printando o retorno por ação de cada empresa\n",
    "print(f\"Retorno por ação de cada empresa: E1 = {E[0,0]}, E2 = {E[1,0]}, E3 = {E[2,0]}\")\n",
    "\n",
    "# questao 2\n",
    "# agora queremos calcular X\n",
    "M = np.array([[100, 200, 300]])\n",
    "X = M @ E\n",
    "print(f\"Retorno de uma carteira com 100 ações da empresa E1, 200 da empresa E2 e 300 da E3: {X[0,0]}\")"
   ]
  },
  {
   "attachments": {},
   "cell_type": "markdown",
   "metadata": {},
   "source": [
    "### Justificativa\n",
    "\n",
    "Vamos pegar tres equações do enunciado\n",
    "\n",
    "$$100 * E_{1} + 200 * E_{2} = 100$$\n",
    "$$200 * E_{1} + 300 * E_{2} = 500$$\n",
    "$$400 * E_{2} = 600 * E_{3} = 1000$$\n",
    "\n",
    "sendo assim, temos que\n",
    "$$E_{1} + 2 * E_{2} = 1$$\n",
    "$$2 * E_{1} + 3 * E_{2} = 5$$\n",
    "$$4 * E_{2} + 6 * E_{3} = 10$$\n",
    "\n",
    "vamos transformar isso em matrizes\n",
    "vamos chamar nossa matriz multiplicadora de M\n",
    "Nossa matriz de entrada será X\n",
    "Nossa matriz de saída será E\n",
    "\n",
    "$$\n",
    "M =\n",
    "\\begin{bmatrix}\n",
    "    1 & 2 & 0 \\\\\n",
    "    2 & 3 & 0 \\\\\n",
    "    0 & 4 & 6\n",
    "\\end{bmatrix}\n",
    "$$\n",
    "\n",
    "$$\n",
    "X =\n",
    "\\begin{bmatrix}\n",
    "    1 \\\\\n",
    "    5 \\\\\n",
    "    10\n",
    "\\end{bmatrix}\n",
    "$$\n",
    "\n",
    "Temos $X = ME$, portanto $E = M^{-1} X$\n",
    "\n",
    "Agora temos que calcular a inversa de M, para isso, vamos usar a função inv do numpy\n",
    "\n",
    "```python\n",
    "E = np.linalg.inv(M) @ X\n",
    "```\n",
    "\n",
    "vamos responder a seguinte pergunta:\n",
    "1. Qual é o retorno por ação de cada empresa? (E1, E2, E3)\n",
    "\n",
    "Resposta: $E_{1} = 7.0, E_{2} = -3.0, E_{3} = 3.6666666666666665$\n",
    "\n",
    "### Agora para a questao 2 temos outra matriz\n",
    "\n",
    "Temos nosso M, e temos nosso E, precisamos agora calcular o X\n",
    "\n",
    "nosso novo M eh:\n",
    "\n",
    "$$\n",
    "M =\n",
    "\\begin{bmatrix}\n",
    "    100 & 200 & 300\n",
    "\\end{bmatrix}\n",
    "$$\n",
    "\n",
    "nosso novo X eh:\n",
    "\n",
    "```python\n",
    "X = M @ E\n",
    "```\n",
    "\n",
    "2. Qual é o retorno de uma carteira com 100 ações da empresa E1, 200 da empresa E2 e 300 da E3?\n",
    "\n",
    "Resposta: Retorno de uma carteira com 100 ações da empresa $E_{1}$, 200 da empresa $E_{2}$ e 300 da $E_{3}$: R$1200.0"
   ]
  },
  {
   "attachments": {},
   "cell_type": "markdown",
   "metadata": {},
   "source": [
    "# Exercício 4\n",
    "\n",
    "* Peso: 4 pontos\n",
    "\n",
    "Uma maneira de fazer transformações em imagens é usar pontos de referência. Por exemplo, podemos definir pontos de referência em um rosto como o centro de cada um dos olhos, a ponta do nariz e o ponto inferior do queixo. Daí então, encontramos onde esses pontos estão na imagem de origem, e escolhemos (como quisermos) onde os pontos estão na imagem de destino. Encontramos a transformação linear que realiza esse mapeamento, e então aplicamos essa mesma transformação para todos os pontos da imagem, isto é:\n",
    "\n",
    "$$\n",
    "Xd = T X,\n",
    "$$\n",
    "\n",
    "onde $Xd$ é uma matriz com pontos na imagem de destino, $X$ é uma matriz com pontos na imagem de origem, e $T$ é uma transformação linear.\n",
    "\n",
    "Num rosto, em uma imagem que está mapeada no plano cartesiano (isto é, no plano usual $x,y$ e não numa matriz de pixels), encontramos:\n",
    "\n",
    "* O olho esquerdo em $(-2, 3)$,\n",
    "* o olho direito em $(2, 3)$\n",
    "* A ponta do nariz em $(0,0)$\n",
    "* O ponto inferior do queixo em $(0, -3)$\n",
    "\n",
    "O rosto foi mapeado usando uma transformação linear de forma que os pontos de referência foram deslocados para:\n",
    "\n",
    "* O olho esquerdo em $(-6, 2)$,\n",
    "* o olho direito em $(6, 1)$\n",
    "* A ponta do nariz em $(3, 0)$\n",
    "\n",
    "Usando formulações matriciais, responda: qual é a distância entre o ponto inferior do queixo e a ponta do nariz no novo mapeamento?\n"
   ]
  },
  {
   "cell_type": "code",
   "execution_count": 26,
   "metadata": {},
   "outputs": [
    {
     "data": {
      "image/png": "[encoded data removed]",
      "text/plain": [
       "<Figure size 640x480 with 1 Axes>"
      ]
     },
     "metadata": {},
     "output_type": "display_data"
    }
   ],
   "source": [
    "# vamos plotar os pontos de referência\n",
    "plt.figure()\n",
    "plt.scatter([-2, 2, 0, 0], [3, 3, 0, -3], s=100, c='r')\n",
    "plt.scatter([-6, 6, 3], [2, 1, 0], s=100, c='b')\n",
    "plt.xlim([-10, 10])\n",
    "plt.ylim([-10, 10])\n",
    "plt.grid()\n",
    "plt.show()\n"
   ]
  },
  {
   "cell_type": "code",
   "execution_count": 29,
   "metadata": {},
   "outputs": [
    {
     "name": "stdout",
     "output_type": "stream",
     "text": [
      "T = [[ 3.   -1.    3.  ]\n",
      " [-0.25  0.5   0.  ]\n",
      " [ 0.    0.    1.  ]]\n",
      "O Queixo foi mapeado para 6.0, -1.5\n"
     ]
    },
    {
     "data": {
      "image/png": "[encoded data removed]",
      "text/plain": [
       "<Figure size 640x480 with 1 Axes>"
      ]
     },
     "metadata": {},
     "output_type": "display_data"
    }
   ],
   "source": [
    "# Vamos agora usar multiplicação de matrizes para encontrar a distância entre o ponto inferior do queixo e a ponta do nariz no novo mapeamento\n",
    "# vamos calcular a transformação linear\n",
    "X = np.array([[-2, 2, 0], [3, 3, 0], [1, 1, 1]])\n",
    "Xd = np.array([[-6, 6, 3], [2, 1, 0], [1, 1, 1]])\n",
    "# Y = T @ X\n",
    "T = Xd @ np.linalg.inv(X)\n",
    "print(f\"T = {T}\")\n",
    "\n",
    "# Vamos calcular para onde foi nosso queixo\n",
    "# sabemos que o queixo está em (0, -3), portanto\n",
    "Q = np.array([[0], [-3], [1]])\n",
    "Q = T @ Q\n",
    "print(f\"O Queixo foi mapeado para {Q[0,0]}, {Q[1,0]}\")\n",
    "\n",
    "# Vamos fazer o grafico do nosso rosto e do novo rosto, agora com o queixo mapeado\n",
    "plt.figure()\n",
    "plt.scatter([-2, 2, 0, 0], [3, 3, 0, -3], s=100, c='r')\n",
    "plt.scatter([-6, 6, 3, Q[0,0]], [2, 1, 0, Q[1,0]], s=100, c='b')\n",
    "plt.xlim([-10, 10])\n",
    "plt.ylim([-10, 10])\n",
    "plt.grid()\n",
    "plt.show()\n"
   ]
  },
  {
   "cell_type": "code",
   "execution_count": 28,
   "metadata": {},
   "outputs": [
    {
     "name": "stdout",
     "output_type": "stream",
     "text": [
      "A distância entre o queixo e a ponta do nariz é 3.3541019662496847\n"
     ]
    }
   ],
   "source": [
    "# Por fim, vamos calcular a distância entre o queixo e a ponta do nariz \n",
    "# sabemos que a ponta do nariz está em (3, 0), e o queixo está em (3, -3)\n",
    "# portanto, a distância é\n",
    "dist = np.sqrt((3 - Q[0,0])**2 + (0 - Q[1,0])**2)\n",
    "print(f\"A distância entre o queixo e a ponta do nariz é {dist}\")"
   ]
  },
  {
   "attachments": {},
   "cell_type": "markdown",
   "metadata": {},
   "source": [
    "### Justificativa\n",
    "\n",
    "Não sabemos onde foi parar o queixo, mas sabemos que uma matriz T mutiplicou nossa matriz de pontos e com isso nosso rosto foi transformado, sendo assim, vamos calcular a matriz T\n",
    "\n",
    "Para isso pegamos os pontos de referencia da imagem de origem e os pontos de referencia da imagem de destino\n",
    "\n",
    "A matriz X sera nossa origem e nossa matriz Xd sera nossa destino\n",
    "\n",
    "$$\n",
    "X = \n",
    "\\begin{bmatrix}\n",
    "    -2 & 2 & 0 \\\\\n",
    "    3 & 3 & 0 \\\\\n",
    "    1 & 1 & 1\n",
    "\\end{bmatrix}\n",
    "$$\n",
    "\n",
    "$$\n",
    "Xd =\n",
    "\\begin{bmatrix}\n",
    "    -6 & 6 & 3 \\\\\n",
    "    2 & 1 & 0 \\\\\n",
    "    1 & 1 & 1\n",
    "\\end{bmatrix}\n",
    "$$\n",
    "\n",
    "Temos que: $$Xd = TX$$\n",
    "\n",
    "Portanto temos que: $$T = X_{d} X^{-1}$$\n",
    "\n",
    "```python\n",
    "T = Xd @ np.linalg.inv(X)\n",
    "```\n",
    "\n",
    "Sendo assim, nossa matriz T eh: \n",
    "\n",
    "$$T = \n",
    "\\begin{bmatrix}\n",
    "    3 & -1 & 3 \\\\\n",
    "    -0.25 & 0.5 & 0 \\\\\n",
    "    0 & 0 & 1\n",
    "\\end{bmatrix}\n",
    "$$\n",
    "\n",
    "### Agora vamos calcular a distancia entre o queixo e o nariz\n",
    "\n",
    "Vamos chamar de Q nosso queixo antigo e $N_{Q}$ nosso queixo novo\n",
    "\n",
    "Temos que: $$N_{Q} = TQ$$\n",
    "\n",
    "Nosso Q eh:\n",
    "$$\n",
    "Q =\n",
    "\\begin{bmatrix}\n",
    "    0 \\\\\n",
    "    -3 \\\\\n",
    "    1\n",
    "\\end{bmatrix}\n",
    "$$\n",
    "\n",
    "Portanto podemos realizar a multiplicação de matrizes e obter nosso $N_{Q}$\n",
    "```python\n",
    "N_Q = T @ Q\n",
    "```\n",
    "\n",
    "Resultando eh:\n",
    "\n",
    "$$\n",
    "N_{Q} =\n",
    "\\begin{bmatrix}\n",
    "    6 \\\\\n",
    "    -1.5 \\\\\n",
    "    1\n",
    "\\end{bmatrix}\n",
    "$$\n",
    "\n",
    "Agora vamos calcular a distancia entre o queixo e o nariz\n",
    "\n",
    "Para isso vamos usar a formula da distancia entre dois pontos\n",
    "\n",
    "Essa formula eh descrita por: $$d = \\sqrt{(x_2 - x_1)^2 + (y_2 - y_1)^2}$$\n",
    "\n",
    "Sendo assim, temos que:\n",
    "\n",
    "$$d = \\sqrt{(0 - 6)^2 + (-3 - (-1.5))^2}$$\n",
    "\n",
    "```python\n",
    "d = np.sqrt((0 - N_Q[0])**2 + (-3 - N_Q[1])**2)\n",
    "```\n",
    "\n",
    "Portanto, temos que: $d = 3.3541019662496847$\n",
    "\n",
    "A distância entre o queixo e a ponta do nariz é 3.3541019662496847"
   ]
  },
  {
   "cell_type": "markdown",
   "metadata": {},
   "source": []
  }
 ],
 "metadata": {
  "kernelspec": {
   "display_name": "base",
   "language": "python",
   "name": "python3"
  },
  "language_info": {
   "codemirror_mode": {
    "name": "ipython",
    "version": 3
   },
   "file_extension": ".py",
   "mimetype": "text/x-python",
   "name": "python",
   "nbconvert_exporter": "python",
   "pygments_lexer": "ipython3",
   "version": "3.10.9"
  },
  "orig_nbformat": 4
 },
 "nbformat": 4,
 "nbformat_minor": 2
}
