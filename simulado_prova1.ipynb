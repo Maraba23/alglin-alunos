{
 "cells": [
  {
   "cell_type": "code",
   "execution_count": 6,
   "metadata": {},
   "outputs": [],
   "source": [
    "import numpy as np\n",
    "import matplotlib.pyplot as plt"
   ]
  },
  {
   "attachments": {},
   "cell_type": "markdown",
   "metadata": {},
   "source": [
    "# Simulado para a prova"
   ]
  },
  {
   "attachments": {},
   "cell_type": "markdown",
   "metadata": {},
   "source": [
    "## Exercício 1\n",
    "\n",
    "Dadas as matrizes:\n",
    "\n",
    "$$\n",
    "A = \\begin{bmatrix} 0 & 1\\\\ 2 & 3 \\end{bmatrix} \\\\\n",
    "\n",
    "B = \\begin{bmatrix} 7 & 9\\\\ 23 & -1 \\end{bmatrix}\n",
    "$$\n",
    "\n",
    "calcule:\n",
    "\n",
    "1. $AB$\n",
    "1. $BA$\n",
    "1. $A \\odot B$\n",
    "1. $A^TB$\n",
    "1. $AB^{-1}$\n",
    "\n",
    "$(AB)^T = B^T A^T$\n"
   ]
  },
  {
   "cell_type": "code",
   "execution_count": 5,
   "metadata": {},
   "outputs": [
    {
     "name": "stdout",
     "output_type": "stream",
     "text": [
      "[[23 -1]\n",
      " [83 15]]\n",
      "-----------------\n",
      "[[18 34]\n",
      " [-2 20]]\n",
      "-----------------\n",
      "[[ 0  9]\n",
      " [46 -3]]\n",
      "-----------------\n",
      "[[46 -2]\n",
      " [76  6]]\n",
      "-----------------\n",
      "[[ 0.10747664 -0.03271028]\n",
      " [ 0.3317757  -0.01401869]]\n"
     ]
    }
   ],
   "source": [
    "\n",
    "A = np.array( [[0,1],[2,3]])\n",
    "B = np.array( [[7, 9],[23, -1]])\n",
    "x1 = A @ B\n",
    "x2 = B @ A\n",
    "x3 = A * B\n",
    "x4 = A.T @ B\n",
    "x5 = A @ np.linalg.inv(B)\n",
    "print(x1)\n",
    "print('-----------------')\n",
    "print(x2)\n",
    "print('-----------------')\n",
    "print(x3)\n",
    "print('-----------------')\n",
    "print(x4)\n",
    "print('-----------------')\n",
    "print(x5)"
   ]
  },
  {
   "attachments": {},
   "cell_type": "markdown",
   "metadata": {},
   "source": [
    "# Exercício 2\n",
    "\n",
    "Eu tenho uma núvem de pontos que está em um quadrado cujo centro é o ponto $(-2,3)$. Qual é a matriz que transforma essa núvem de pontos em uma núvem semelhante, rotacionada de 30 graus no sentido anti-horário, centrada em $(5,5)$? Se precisar, use coordenadas homogêneas!"
   ]
  },
  {
   "attachments": {},
   "cell_type": "markdown",
   "metadata": {},
   "source": [
    "$$\n",
    "R = \n",
    "\\begin{bmatrix}\n",
    "    \\cos(\\theta) & -\\sin(\\theta) & 0 \\\\\n",
    "    \\sin(\\theta) & \\cos(\\theta) & 0 \\\\\n",
    "    0 & 0 & 1\n",
    "\\end{bmatrix}\n",
    "$$\n",
    "\n",
    "$$\n",
    "T = \n",
    "\\begin{bmatrix}\n",
    "    1 & 0 & \\Delta x \\\\\n",
    "    0 & 1 & \\Delta y \\\\\n",
    "    0 & 0 & 1\n",
    "\\end{bmatrix}\n",
    "$$"
   ]
  },
  {
   "cell_type": "code",
   "execution_count": 32,
   "metadata": {},
   "outputs": [
    {
     "name": "stdout",
     "output_type": "stream",
     "text": [
      "[[ 0.8660254 -0.5        5.       ]\n",
      " [ 0.5        0.8660254  5.       ]\n",
      " [ 0.         0.         1.       ]]\n"
     ]
    },
    {
     "data": {
      "image/png": "[encoded data removed]",
      "text/plain": [
       "<Figure size 640x480 with 1 Axes>"
      ]
     },
     "metadata": {},
     "output_type": "display_data"
    }
   ],
   "source": [
    "x = np.random.uniform(-2, 2, size=(2, 800))\n",
    "x = np.vstack((x, np.ones((1, 800))))\n",
    "\n",
    "C = np.array([[1, 0, -2], [0, 1, 3], [0, 0, 1]])\n",
    "x = C @ x\n",
    "\n",
    "T = np.array([[1, 0, 2], [0, 1, -3], [0, 0, 1]])\n",
    "\n",
    "theta = np.deg2rad(30)\n",
    "R = np.array([[np.cos(theta), -np.sin(theta), 5], [np.sin(theta), np.cos(theta), 5], [0, 0, 1]])\n",
    "\n",
    "y = T @ x\n",
    "y = R @ y\n",
    "\n",
    "resposta = C @ T @ R\n",
    "print(resposta)\n",
    "\n",
    "plt.figure()\n",
    "plt.scatter(x[0,:], x[1,:], s=1, c='r')\n",
    "plt.scatter(y[0,:], y[1,:], s=1, c='b')\n",
    "plt.xlim([-10, 10])\n",
    "plt.ylim([-10, 10])\n",
    "plt.grid()\n",
    "plt.show()"
   ]
  },
  {
   "attachments": {},
   "cell_type": "markdown",
   "metadata": {},
   "source": [
    "# Exercício 3\n",
    "\n",
    "Quatro amigos foram a uma lanchonete, e fizeram os seguintes pedidos:\n",
    "\n",
    "* 1 x-salada e 1 suco de laranja, no total de R$10,00,\n",
    "* 2 x-salada e 2 suco de laranja, no total de R$20,00,\n",
    "* 2 x-salada e 1 suco de laranja, no total de R$13,00,\n",
    "* 4 x-salada e 2 suco de laranja, no total de R$26,00.\n",
    "\n",
    "\n",
    "1. Qual é o preço do x-salada?\n",
    "1. Qual é o preço do suco de laranja?\n",
    "1. Qual é o valor de uma compra de 1 x-salada e 2 sucos de laranja?\n"
   ]
  },
  {
   "cell_type": "code",
   "execution_count": 35,
   "metadata": {},
   "outputs": [
    {
     "name": "stdout",
     "output_type": "stream",
     "text": [
      "Qual o preço do X-salada?\n",
      "X-salada custa 3 reais\n",
      "Qual o preço do suco de laranja?\n",
      "Suco de laranja custa 7 reais\n",
      "------------------\n",
      "\n",
      "\n",
      "Conta:\n",
      "X-salada + Suco de laranja = R$ 10,00\n",
      "2X-salada + 2Suco de laranja = R$ 20,00\n",
      "2X-salada + Suco de laranja = R$ 13,00\n",
      "4X-salada + 2Suco de laranja = R$ 26,00\n",
      "\n",
      "1 * 3 + 1 * 7 = 10\n",
      "2 * 3 + 2 * 7 = 20\n",
      "2 * 3 + 1 * 7 = 13\n",
      "4 * 3 + 2 * 7 = 26\n",
      "\n",
      "\n"
     ]
    }
   ],
   "source": [
    "'''\n",
    "Expressoes\n",
    "# x salada = x\n",
    "# suco de laranja = y\n",
    "\n",
    "x + y = 10\n",
    "2x + 2y = 20\n",
    "2x + y = 13\n",
    "4x + 2y = 26\n",
    "'''\n",
    "print('Qual o preço do X-salada?')\n",
    "print('X-salada custa 3 reais')\n",
    "print('Qual o preço do suco de laranja?')\n",
    "print('Suco de laranja custa 7 reais')\n",
    "print('------------------')\n",
    "print('''\n",
    "\n",
    "Conta:\n",
    "X-salada + Suco de laranja = R$ 10,00\n",
    "2X-salada + 2Suco de laranja = R$ 20,00\n",
    "2X-salada + Suco de laranja = R$ 13,00\n",
    "4X-salada + 2Suco de laranja = R$ 26,00\n",
    "\n",
    "1 * 3 + 1 * 7 = 10\n",
    "2 * 3 + 2 * 7 = 20\n",
    "2 * 3 + 1 * 7 = 13\n",
    "4 * 3 + 2 * 7 = 26\n",
    "\n",
    "''')\n"
   ]
  },
  {
   "cell_type": "markdown",
   "metadata": {},
   "source": []
  },
  {
   "attachments": {},
   "cell_type": "markdown",
   "metadata": {},
   "source": [
    "# Exercício 4\n",
    "\n",
    "Cada real investido na empresa E1 deu um retorno de 50 centavos ao fim de um ano. Cada real investido na empresa E2 deu um retorno de 10 centavos ao fim de um ano. Uma corretora propôs duas carteiras: C1, em que cada real é dividido igualmente entre as empresas E1 e E2, e C2, que tem 75% de aplicação na empresa E1 e 25% na empresa E2.\n",
    "\n",
    "1. Se um investidor tem 5000 reais investidos na carteira C1 e 1000 na carteira C2, qual é o seu investimento nas empresas E1 e E2?\n",
    "1. Se um investidor tem 2000 reais investidos diretamente na empresa E1, e 2000 reais na empresa E2, qual seria o investimento nas carteiras C1 e C2 equivalente?\n",
    "1. Qual é a matriz que permite transformar investimentos nas empresas E1 e E2 em investimentos nas carteiras C1 e C2?"
   ]
  },
  {
   "attachments": {},
   "cell_type": "markdown",
   "metadata": {},
   "source": [
    "$$\n",
    "E_1 = 0.5 C_1 + 0.75 C_2 \\\\\n",
    "E_2 = 0.5 C_1 + 0.25 C_2 \n",
    "$$\n",
    "\n",
    "$$\n",
    "E = \\begin{bmatrix} 0.5 & 0.75 \\\\ 0.5 & 0.25 \\end{bmatrix} C\n",
    "$$"
   ]
  },
  {
   "cell_type": "code",
   "execution_count": null,
   "metadata": {},
   "outputs": [],
   "source": []
  },
  {
   "attachments": {},
   "cell_type": "markdown",
   "metadata": {},
   "source": [
    "# Exercício 5\n",
    "\n",
    "Escreva o vetor $x$ tal que:\n",
    "\n",
    "$$\n",
    "\\begin{bmatrix} -5 \\\\ 3 \\end{bmatrix} = \\begin{bmatrix} 0 & 1\\\\ 2 & 3 \\end{bmatrix} x\n",
    "$$"
   ]
  },
  {
   "cell_type": "code",
   "execution_count": 40,
   "metadata": {},
   "outputs": [
    {
     "name": "stdout",
     "output_type": "stream",
     "text": [
      "[[ 9.]\n",
      " [-5.]]\n"
     ]
    }
   ],
   "source": [
    "A = np.array([[-5, 3]]).T\n",
    "B = np.array([[0, 1], [2, 3]])\n",
    "\n",
    "x = np.linalg.inv(B) @ A\n",
    "print(x)"
   ]
  },
  {
   "attachments": {},
   "cell_type": "markdown",
   "metadata": {},
   "source": [
    "# Exercício 6\n",
    "\n",
    "\n",
    "Olhando uma foto do mapa em satélite da região próxima à Vila Olímpia, vemos a seguinte situação:\n",
    "\n",
    "* O Insper, que está na latitude/longitude `[-23.59857192474643, -46.67653800340679]`, está no pixel `(400, 100)`.\n",
    "* A escola Móbile, originalmente em `[-23.598451299397993, -46.66985259860919]`, está no pixel `(400, 200)`.\n",
    "* O cachorródromo do parque Ibirapuera, que fica em `[-23.59247353738838, -46.66154847926121]`, está no pixel `(200, 400)`\n",
    "\n",
    "Em que pixel deve aparecer o Burguer King, que fica na esquina da Avenida Santo Amaro com a Hélio Pelegrino, na latitude/longitude `[-23.597723757411057, -46.67377935273308]`?"
   ]
  },
  {
   "cell_type": "code",
   "execution_count": null,
   "metadata": {},
   "outputs": [],
   "source": []
  },
  {
   "cell_type": "code",
   "execution_count": null,
   "metadata": {},
   "outputs": [],
   "source": []
  }
 ],
 "metadata": {
  "kernelspec": {
   "display_name": "base",
   "language": "python",
   "name": "python3"
  },
  "language_info": {
   "codemirror_mode": {
    "name": "ipython",
    "version": 3
   },
   "file_extension": ".py",
   "mimetype": "text/x-python",
   "name": "python",
   "nbconvert_exporter": "python",
   "pygments_lexer": "ipython3",
   "version": "3.10.6"
  },
  "orig_nbformat": 4
 },
 "nbformat": 4,
 "nbformat_minor": 2
}
